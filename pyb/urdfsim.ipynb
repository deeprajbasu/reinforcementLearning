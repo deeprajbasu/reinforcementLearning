{
 "cells": [
  {
   "cell_type": "code",
   "execution_count": 37,
   "id": "22ad1282",
   "metadata": {},
   "outputs": [],
   "source": [
    "# import pybullet as p\n",
    "\n",
    "# import pybullet_data\n",
    "\n",
    "\n",
    "# p.connect(p.GUI)\n",
    "p.setAdditionalSearchPath(pybullet_data.getDataPath())\n",
    "\n",
    "# First, let's make sure we start with a fresh new simulation.\n",
    "# Otherwise, we can keep adding objects by running this cell over again.\n",
    "p.resetSimulation()"
   ]
  },
  {
   "cell_type": "code",
   "execution_count": 39,
   "id": "71fb9014",
   "metadata": {
    "scrolled": true
   },
   "outputs": [
    {
     "data": {
      "text/plain": [
       "2"
      ]
     },
     "execution_count": 39,
     "metadata": {},
     "output_type": "execute_result"
    }
   ],
   "source": [
    "\n",
    "\n",
    "# Load our simulation floor plane at the origin (0, 0, 0).\n",
    "p.loadURDF('plane.urdf')\n",
    "\n",
    "# Load an R2D2 droid at the position at 0.5 meters height in the z-axis.\n",
    "r2d2 = p.loadURDF('urdf/1/bittle.urdf', [0, 0, 0.5])\n",
    "\n",
    "\n",
    "# We can check the number of bodies we have in the simulation.\n",
    "p.getNumBodies()\n",
    "\n",
    "\n"
   ]
  },
  {
   "cell_type": "code",
   "execution_count": null,
   "id": "5cc7be99",
   "metadata": {},
   "outputs": [],
   "source": []
  },
  {
   "cell_type": "code",
   "execution_count": null,
   "id": "61a80afb",
   "metadata": {},
   "outputs": [],
   "source": []
  },
  {
   "cell_type": "code",
   "execution_count": 38,
   "id": "f4e69fc1",
   "metadata": {},
   "outputs": [
    {
     "name": "stdout",
     "output_type": "stream",
     "text": [
      "r2d2 unique ID: 1\n"
     ]
    }
   ],
   "source": [
    "# First let's define a class for the JointInfo.\n",
    "from dataclasses import dataclass\n",
    "\n",
    "@dataclass\n",
    "class Joint:\n",
    "  index: int\n",
    "  name: str\n",
    "  type: int\n",
    "  gIndex: int\n",
    "  uIndex: int\n",
    "  flags: int\n",
    "  damping: float\n",
    "  friction: float\n",
    "  lowerLimit: float\n",
    "  upperLimit: float\n",
    "  maxForce: float\n",
    "  maxVelocity: float\n",
    "  linkName: str\n",
    "  axis: tuple\n",
    "  parentFramePosition: tuple\n",
    "  parentFrameOrientation: tuple\n",
    "  parentIndex: int\n",
    "\n",
    "  def __post_init__(self):\n",
    "    self.name = str(self.name, 'utf-8')\n",
    "    self.linkName = str(self.linkName, 'utf-8')\n",
    "\n",
    "# Let's analyze the R2D2 droid!\n",
    "print(f\"r2d2 unique ID: {r2d2}\")\n",
    "for i in range(p.getNumJoints(r2d2)):\n",
    "  joint = Joint(*p.getJointInfo(r2d2, i))\n",
    "  print(joint)"
   ]
  },
  {
   "cell_type": "code",
   "execution_count": 41,
   "id": "e41c7e5c",
   "metadata": {},
   "outputs": [
    {
     "ename": "error",
     "evalue": "GetBasePositionAndOrientation failed.",
     "output_type": "error",
     "traceback": [
      "\u001b[1;31m---------------------------------------------------------------------------\u001b[0m",
      "\u001b[1;31merror\u001b[0m                                     Traceback (most recent call last)",
      "\u001b[1;32m~\\AppData\\Local\\Temp\\ipykernel_12272\\522703312.py\u001b[0m in \u001b[0;36m<module>\u001b[1;34m\u001b[0m\n\u001b[0;32m      4\u001b[0m \u001b[1;31m# Run the simulation for a fixed amount of steps.\u001b[0m\u001b[1;33m\u001b[0m\u001b[1;33m\u001b[0m\u001b[1;33m\u001b[0m\u001b[0m\n\u001b[0;32m      5\u001b[0m \u001b[1;32mwhile\u001b[0m \u001b[1;32mTrue\u001b[0m \u001b[1;33m:\u001b[0m\u001b[1;33m\u001b[0m\u001b[1;33m\u001b[0m\u001b[0m\n\u001b[1;32m----> 6\u001b[1;33m     \u001b[0mposition\u001b[0m\u001b[1;33m,\u001b[0m \u001b[0morientation\u001b[0m \u001b[1;33m=\u001b[0m \u001b[0mp\u001b[0m\u001b[1;33m.\u001b[0m\u001b[0mgetBasePositionAndOrientation\u001b[0m\u001b[1;33m(\u001b[0m\u001b[0mr2d2\u001b[0m\u001b[1;33m)\u001b[0m\u001b[1;33m\u001b[0m\u001b[1;33m\u001b[0m\u001b[0m\n\u001b[0m\u001b[0;32m      7\u001b[0m     \u001b[0mx\u001b[0m\u001b[1;33m,\u001b[0m \u001b[0my\u001b[0m\u001b[1;33m,\u001b[0m \u001b[0mz\u001b[0m \u001b[1;33m=\u001b[0m \u001b[0mposition\u001b[0m\u001b[1;33m\u001b[0m\u001b[1;33m\u001b[0m\u001b[0m\n\u001b[0;32m      8\u001b[0m     \u001b[0mroll\u001b[0m\u001b[1;33m,\u001b[0m \u001b[0mpitch\u001b[0m\u001b[1;33m,\u001b[0m \u001b[0myaw\u001b[0m \u001b[1;33m=\u001b[0m \u001b[0mp\u001b[0m\u001b[1;33m.\u001b[0m\u001b[0mgetEulerFromQuaternion\u001b[0m\u001b[1;33m(\u001b[0m\u001b[0morientation\u001b[0m\u001b[1;33m)\u001b[0m\u001b[1;33m\u001b[0m\u001b[1;33m\u001b[0m\u001b[0m\n",
      "\u001b[1;31merror\u001b[0m: GetBasePositionAndOrientation failed."
     ]
    }
   ],
   "source": [
    "\n",
    "# Set the gravity to Earth's gravity.\n",
    "p.setGravity(0, 0, -9.807)\n",
    "\n",
    "# Run the simulation for a fixed amount of steps.\n",
    "while True :\n",
    "    position, orientation = p.getBasePositionAndOrientation(r2d2)\n",
    "    x, y, z = position\n",
    "    roll, pitch, yaw = p.getEulerFromQuaternion(orientation)\n",
    "    p.setJointMotorControl2(bodyUniqueId=1, jointIndex=3, controlMode=p.VELOCITY_CONTROL, targetVelocity = 3,force = 8000) \n",
    "#     print(f\"{i:3}: x={x:0.10f}, y={y:0.10f}, z={z:0.10f}), roll={roll:0.10f}, pitch={pitch:0.10f}, yaw={yaw:0.10f}\")\n",
    "    \n",
    "    \n",
    "    \n",
    "#     p.setJointMotorControl2(bodyUniqueId=1, jointIndex=4, controlMode=p.VELOCITY_CONTROL, targetVelocity = 3,force = 500) \n",
    "    p.setJointMotorControl2(bodyUniqueId=1, jointIndex=6, controlMode=p.VELOCITY_CONTROL, targetVelocity = 3,force = 8000) \n",
    "\n",
    "    p.stepSimulation()"
   ]
  },
  {
   "cell_type": "code",
   "execution_count": 4,
   "id": "f0dc356c",
   "metadata": {},
   "outputs": [
    {
     "data": {
      "text/plain": [
       "{'base-frame-link': -1,\n",
       " 'battery-link': 0,\n",
       " 'cover-link': 1,\n",
       " 'left-back-shoulder-link': 2,\n",
       " 'left-back-knee-link': 3,\n",
       " 'left-front-shoulder-link': 4,\n",
       " 'left-front-knee-link': 5,\n",
       " 'mainboard_link': 6,\n",
       " 'imu_link': 7,\n",
       " 'right-back-shoulder-link': 8,\n",
       " 'right-back-knee-link': 9,\n",
       " 'right-front-shoulder-link': 10,\n",
       " 'right-front-knee-link': 11}"
      ]
     },
     "execution_count": 4,
     "metadata": {},
     "output_type": "execute_result"
    }
   ],
   "source": [
    "_link_name_to_index = {p.getBodyInfo(r2d2)[0].decode('UTF-8'):-1,}\n",
    "        \n",
    "for _id in range(p.getNumJoints(r2d2)):\n",
    "\t_name = p.getJointInfo(r2d2, _id)[12].decode('UTF-8')\n",
    "\t_link_name_to_index[_name] = _id\n",
    "_link_name_to_index"
   ]
  },
  {
   "cell_type": "code",
   "execution_count": 40,
   "id": "158b1edb",
   "metadata": {},
   "outputs": [],
   "source": [
    "p.changeVisualShape(r2d2,-1,rgbaColor=[1,0,0,1])\n",
    "p.changeVisualShape(r2d2,0,rgbaColor=[0.5,1,0,1])\n",
    "p.changeVisualShape(r2d2,1,rgbaColor=[1,1,0,1])\n",
    "p.changeVisualShape(r2d2,6,rgbaColor=[0,0.3,0.8,1])\n",
    "\n",
    "p.changeVisualShape(r2d2,2,rgbaColor=[0,1,0,0.7])\n",
    "p.changeVisualShape(r2d2,4,rgbaColor=[0,1,0,0.7])\n",
    "\n",
    "p.changeVisualShape(r2d2,8,rgbaColor=[0,1,0,1])\n",
    "p.changeVisualShape(r2d2,10,rgbaColor=[0,1,0,1])\n",
    "\n",
    "p.changeVisualShape(r2d2,3,rgbaColor=[0.5,0.5,0.5,0.89])\n",
    "p.changeVisualShape(r2d2,5,rgbaColor=[0.5,0.5,0.5,0.89])\n",
    "p.changeVisualShape(r2d2,9,rgbaColor=[0.5,0.5,0.5,0.89])\n",
    "p.changeVisualShape(r2d2,11,rgbaColor=[0.5,0.5,0.5,0.89])\n",
    "\n",
    "\n"
   ]
  },
  {
   "cell_type": "code",
   "execution_count": 24,
   "id": "91f8e077",
   "metadata": {},
   "outputs": [
    {
     "name": "stdout",
     "output_type": "stream",
     "text": [
      "rgba shape=(300, 320, 4), dtype=uint8\n"
     ]
    },
    {
     "data": {
      "image/png": "[encoded data removed]",
      "text/plain": [
       "<PIL.Image.Image image mode=RGBA size=320x300 at 0x1D14F0ED288>"
      ]
     },
     "metadata": {},
     "output_type": "display_data"
    },
    {
     "name": "stdout",
     "output_type": "stream",
     "text": [
      "depth shape=(300, 320), dtype=float32, as values from 0.0 (near) to 1.0 (far)\n"
     ]
    },
    {
     "data": {
      "image/png": "[encoded data removed]",
      "text/plain": [
       "<PIL.Image.Image image mode=L size=320x300 at 0x1D14F0CBC88>"
      ]
     },
     "metadata": {},
     "output_type": "display_data"
    },
    {
     "name": "stdout",
     "output_type": "stream",
     "text": [
      "mask shape=(300, 320), dtype=int32, as unique values from 0 to N-1 entities, and -1 as None\n"
     ]
    },
    {
     "data": {
      "image/png": "[encoded data removed]",
      "text/plain": [
       "<PIL.Image.Image image mode=L size=320x300 at 0x1D1519E8348>"
      ]
     },
     "metadata": {},
     "output_type": "display_data"
    }
   ],
   "source": [
    "import numpy as np\n",
    "from PIL import Image\n",
    "from IPython.display import display\n",
    "\n",
    "width = 320\n",
    "height = 300\n",
    "img_arr = p.getCameraImage(\n",
    "    width,\n",
    "    height,\n",
    "    viewMatrix=p.computeViewMatrixFromYawPitchRoll(\n",
    "        cameraTargetPosition=[0, 0, 0],\n",
    "        distance=2,\n",
    "        yaw=60,\n",
    "        pitch=-10,\n",
    "        roll=0,\n",
    "        upAxisIndex=2,\n",
    "    ),\n",
    "    projectionMatrix=p.computeProjectionMatrixFOV(\n",
    "        fov=60,\n",
    "        aspect=width/height,\n",
    "        nearVal=0.01,\n",
    "        farVal=100,\n",
    "    ),\n",
    "    shadow=True,\n",
    "    lightDirection=[1, 1, 1],\n",
    ")\n",
    "width, height, rgba, depth, mask = img_arr\n",
    "print(f\"rgba shape={rgba.shape}, dtype={rgba.dtype}\")\n",
    "display(Image.fromarray(rgba, 'RGBA'))\n",
    "print(f\"depth shape={depth.shape}, dtype={depth.dtype}, as values from 0.0 (near) to 1.0 (far)\")\n",
    "display(Image.fromarray((depth*255).astype('uint8')))\n",
    "print(f\"mask shape={mask.shape}, dtype={mask.dtype}, as unique values from 0 to N-1 entities, and -1 as None\")\n",
    "display(Image.fromarray(np.interp(mask, (-1, mask.max()), (0, 255)).astype('uint8')))"
   ]
  },
  {
   "cell_type": "code",
   "execution_count": null,
   "id": "5b455645",
   "metadata": {},
   "outputs": [],
   "source": []
  },
  {
   "cell_type": "code",
   "execution_count": 7,
   "id": "e49549f4",
   "metadata": {},
   "outputs": [],
   "source": [
    "# p.changeVisualShape(r2d2,-1,rgbaColor=[1,1,1,0])"
   ]
  },
  {
   "cell_type": "code",
   "execution_count": null,
   "id": "0b572681",
   "metadata": {},
   "outputs": [],
   "source": []
  }
 ],
 "metadata": {
  "kernelspec": {
   "display_name": "Python 3 (ipykernel)",
   "language": "python",
   "name": "python3"
  },
  "language_info": {
   "codemirror_mode": {
    "name": "ipython",
    "version": 3
   },
   "file_extension": ".py",
   "mimetype": "text/x-python",
   "name": "python",
   "nbconvert_exporter": "python",
   "pygments_lexer": "ipython3",
   "version": "3.7.11"
  }
 },
 "nbformat": 4,
 "nbformat_minor": 5
}
